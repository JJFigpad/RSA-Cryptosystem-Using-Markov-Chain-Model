{
 "cells": [
  {
   "cell_type": "code",
   "execution_count": 1,
   "id": "75024735",
   "metadata": {},
   "outputs": [],
   "source": [
    "import math\n",
    "import numpy as np"
   ]
  },
  {
   "cell_type": "markdown",
   "id": "80ea0d16",
   "metadata": {},
   "source": [
    "### Montgomeries Transformation"
   ]
  },
  {
   "cell_type": "code",
   "execution_count": 2,
   "id": "b95e81c9",
   "metadata": {},
   "outputs": [],
   "source": [
    "def MTransformation(a,p):\n",
    "    exp = math.ceil(math.log(p, 2))\n",
    "    R = pow(2, exp)\n",
    "    return (a*R)%p"
   ]
  },
  {
   "cell_type": "code",
   "execution_count": 3,
   "id": "1b55e952",
   "metadata": {},
   "outputs": [
    {
     "name": "stdout",
     "output_type": "stream",
     "text": [
      "10\n"
     ]
    }
   ],
   "source": [
    "print(MTransformation(2,11))"
   ]
  },
  {
   "cell_type": "markdown",
   "id": "945c9aa6",
   "metadata": {},
   "source": [
    "## MMM"
   ]
  },
  {
   "cell_type": "code",
   "execution_count": 14,
   "id": "c8d16ae3",
   "metadata": {},
   "outputs": [],
   "source": [
    "def inv(a, p):\n",
    "    for i in range(1, p):\n",
    "        if (a*i)%p == 1:\n",
    "            return i"
   ]
  },
  {
   "cell_type": "code",
   "execution_count": 5,
   "id": "5d0ba66a",
   "metadata": {},
   "outputs": [],
   "source": [
    "def MMM(a,b,p):\n",
    "    return MTransformation(a*b, p)"
   ]
  },
  {
   "cell_type": "code",
   "execution_count": 6,
   "id": "9ee62157",
   "metadata": {},
   "outputs": [
    {
     "name": "stdout",
     "output_type": "stream",
     "text": [
      "3\n"
     ]
    }
   ],
   "source": [
    "print(MMM(2,5,7))"
   ]
  },
  {
   "cell_type": "markdown",
   "id": "35875bed",
   "metadata": {},
   "source": [
    "## MMM reduction"
   ]
  },
  {
   "cell_type": "code",
   "execution_count": 23,
   "id": "116f916c",
   "metadata": {},
   "outputs": [],
   "source": [
    "def find_v(p):\n",
    "    exp = math.ceil(math.log(p, 2))\n",
    "    R = pow(2, exp)\n",
    "    Rinv = inv(R, p)\n",
    "    v = (R*Rinv-1)/p\n",
    "    return (R, int(v))"
   ]
  },
  {
   "cell_type": "code",
   "execution_count": 28,
   "id": "bd118fcd",
   "metadata": {},
   "outputs": [],
   "source": [
    "def MMMr(a, b, p):\n",
    "    D = MTransformation(a, p)*MTransformation(b, p)\n",
    "    R, v = find_v(p)\n",
    "    m = ((D%R)*v)%R\n",
    "    U = (D+m*p)/R\n",
    "    C = U\n",
    "    if U >= p:\n",
    "        C = U-p\n",
    "    return int(C)"
   ]
  },
  {
   "cell_type": "code",
   "execution_count": 29,
   "id": "3d98fe78",
   "metadata": {},
   "outputs": [
    {
     "name": "stdout",
     "output_type": "stream",
     "text": [
      "20\n"
     ]
    }
   ],
   "source": [
    "print(MMMr(6,14, 23))"
   ]
  },
  {
   "cell_type": "code",
   "execution_count": null,
   "id": "0902f80d",
   "metadata": {},
   "outputs": [],
   "source": []
  }
 ],
 "metadata": {
  "kernelspec": {
   "display_name": "Python 3 (ipykernel)",
   "language": "python",
   "name": "python3"
  },
  "language_info": {
   "codemirror_mode": {
    "name": "ipython",
    "version": 3
   },
   "file_extension": ".py",
   "mimetype": "text/x-python",
   "name": "python",
   "nbconvert_exporter": "python",
   "pygments_lexer": "ipython3",
   "version": "3.10.13"
  }
 },
 "nbformat": 4,
 "nbformat_minor": 5
}
