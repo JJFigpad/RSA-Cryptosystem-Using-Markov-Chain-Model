{
 "cells": [
  {
   "cell_type": "code",
   "execution_count": 1,
   "id": "75024735",
   "metadata": {},
   "outputs": [],
   "source": [
    "import math\n",
    "import numpy as np\n",
    "from scipy import integrate"
   ]
  },
  {
   "cell_type": "markdown",
   "id": "80ea0d16",
   "metadata": {},
   "source": [
    "### Montgomeries Transformation"
   ]
  },
  {
   "cell_type": "code",
   "execution_count": 2,
   "id": "b95e81c9",
   "metadata": {},
   "outputs": [],
   "source": [
    "def MTransformation(a,p):\n",
    "    exp = math.ceil(math.log(p, 2))\n",
    "    R = pow(2, exp)\n",
    "    return (a*R)%p"
   ]
  },
  {
   "cell_type": "code",
   "execution_count": 3,
   "id": "1b55e952",
   "metadata": {},
   "outputs": [
    {
     "name": "stdout",
     "output_type": "stream",
     "text": [
      "10\n"
     ]
    }
   ],
   "source": [
    "print(MTransformation(2,11))"
   ]
  },
  {
   "cell_type": "markdown",
   "id": "945c9aa6",
   "metadata": {},
   "source": [
    "## MMM"
   ]
  },
  {
   "cell_type": "code",
   "execution_count": 4,
   "id": "c8d16ae3",
   "metadata": {},
   "outputs": [],
   "source": [
    "def inv(a, p):\n",
    "    for i in range(1, p):\n",
    "        if (a*i)%p == 1:\n",
    "            return i"
   ]
  },
  {
   "cell_type": "code",
   "execution_count": 5,
   "id": "5d0ba66a",
   "metadata": {},
   "outputs": [],
   "source": [
    "def MMM(a,b,p):\n",
    "    return MTransformation(a*b, p)"
   ]
  },
  {
   "cell_type": "code",
   "execution_count": 6,
   "id": "9ee62157",
   "metadata": {},
   "outputs": [
    {
     "name": "stdout",
     "output_type": "stream",
     "text": [
      "3\n"
     ]
    }
   ],
   "source": [
    "print(MMM(2,5,7))"
   ]
  },
  {
   "cell_type": "markdown",
   "id": "35875bed",
   "metadata": {},
   "source": [
    "## MMM reduction"
   ]
  },
  {
   "cell_type": "code",
   "execution_count": 7,
   "id": "116f916c",
   "metadata": {},
   "outputs": [],
   "source": [
    "def find_v(p):\n",
    "    exp = math.ceil(math.log(p, 2))\n",
    "    R = pow(2, exp)\n",
    "    Rinv = inv(R, p)\n",
    "    v = (R*Rinv-1)/p\n",
    "    return (R, int(v))"
   ]
  },
  {
   "cell_type": "code",
   "execution_count": 8,
   "id": "bd118fcd",
   "metadata": {},
   "outputs": [],
   "source": [
    "def MMMr(a, b, p):\n",
    "    D = MTransformation(a, p)*MTransformation(b, p)\n",
    "    R, v = find_v(p)\n",
    "    m = ((D%R)*v)%R\n",
    "    U = (D+m*p)/R\n",
    "    C = U\n",
    "    if U >= p:\n",
    "        C = U-p\n",
    "    return int(C)"
   ]
  },
  {
   "cell_type": "code",
   "execution_count": 9,
   "id": "3d98fe78",
   "metadata": {},
   "outputs": [
    {
     "name": "stdout",
     "output_type": "stream",
     "text": [
      "20\n"
     ]
    }
   ],
   "source": [
    "print(MMMr(6,14, 23))"
   ]
  },
  {
   "cell_type": "markdown",
   "id": "8f9cc59d",
   "metadata": {},
   "source": [
    "##  Left-to-right Montgomery ladder with MM algorithm"
   ]
  },
  {
   "cell_type": "code",
   "execution_count": 10,
   "id": "9b044239",
   "metadata": {},
   "outputs": [],
   "source": [
    "def MM(a,b,p):\n",
    "    exp = math.ceil(math.log(p, 2))\n",
    "    Rinv = inv(pow(2, exp), p)\n",
    "    return (a*b*Rinv)%p"
   ]
  },
  {
   "cell_type": "code",
   "execution_count": 11,
   "id": "e6993133",
   "metadata": {},
   "outputs": [],
   "source": [
    "def LtRMontLadder(m, kb, p):\n",
    "    exp = math.ceil(math.log(p, 2))\n",
    "    R = pow(2, exp)\n",
    "    Rinv = inv(R, p)\n",
    "    R0 = (m*R)%p\n",
    "    R1 = MM(R0, R0, p)\n",
    "    for i in range(len(kb)-1, 1, -1):\n",
    "        if kb[i] == 0:\n",
    "            R1 = MM(R0, R1, p)\n",
    "            R0 = MM(R0,R0,p)\n",
    "        else:\n",
    "            R0 = MM(R0, R1, p)\n",
    "            R1 = MM(R1,R1,p)\n",
    "    return (R0*Rinv)%p"
   ]
  },
  {
   "cell_type": "code",
   "execution_count": 12,
   "id": "0d6d1c13",
   "metadata": {},
   "outputs": [
    {
     "name": "stdout",
     "output_type": "stream",
     "text": [
      "5\n"
     ]
    }
   ],
   "source": [
    "p = 11\n",
    "kb = bin(21)\n",
    "m = 3\n",
    "print(LtRMontLadder(m, kb, p))"
   ]
  },
  {
   "cell_type": "code",
   "execution_count": 13,
   "id": "1d5502b9",
   "metadata": {},
   "outputs": [
    {
     "name": "stdout",
     "output_type": "stream",
     "text": [
      "6\n"
     ]
    }
   ],
   "source": [
    "p = 7\n",
    "kb = bin(17)\n",
    "m = 3\n",
    "print(LtRMontLadder(m, kb, p))"
   ]
  },
  {
   "cell_type": "markdown",
   "id": "e38e804b",
   "metadata": {},
   "source": [
    "## Attack"
   ]
  },
  {
   "cell_type": "code",
   "execution_count": 21,
   "id": "5d967ddc",
   "metadata": {},
   "outputs": [],
   "source": [
    "def uM(ER):\n",
    "    N = len(ER)\n",
    "    l = len(ER[0])\n",
    "    l0 = l//2\n",
    "    pR_E = 0\n",
    "    for i in range(N):\n",
    "        for j in range(0, l, 2):\n",
    "            pR_E += ER[i][j]\n",
    "    return pR_E/(N*l0)\n",
    "\n",
    "def uQ(ER):\n",
    "    N = len(ER)\n",
    "    l = len(ER[0])\n",
    "    l0 = l//2\n",
    "    pn_E = 0\n",
    "    for i in range(N):\n",
    "        for j in range(1, l, 2):\n",
    "            pn_E += ER[i][j]\n",
    "    return pn_E/(N*l0)"
   ]
  },
  {
   "cell_type": "code",
   "execution_count": 27,
   "id": "92aaec88",
   "metadata": {},
   "outputs": [],
   "source": [
    "def p_Estimators(ER):\n",
    "    um = uM(ER)\n",
    "    uq = uQ(ER)\n",
    "    pR_e = (12*(uq-um))/(1+6*uq-8*um)\n",
    "    pn_e = 4*um-3*uq\n",
    "    return (pR_e,pn_e)"
   ]
  },
  {
   "cell_type": "code",
   "execution_count": 32,
   "id": "5a63c9c1",
   "metadata": {},
   "outputs": [
    {
     "data": {
      "text/plain": [
       "(3.0, 0.16666666666666652)"
      ]
     },
     "execution_count": 32,
     "metadata": {},
     "output_type": "execute_result"
    }
   ],
   "source": [
    "p_Estimators([[1,0,1,1,0,1,1,1],[1,1,0,0,1,1,0,1],[1,1,0,1,1,1,1,1]])"
   ]
  },
  {
   "cell_type": "code",
   "execution_count": 73,
   "id": "e119b3b6",
   "metadata": {},
   "outputs": [
    {
     "data": {
      "text/plain": [
       "[[0, 0, 0, 0],\n",
       " [0, 0, 0, 1],\n",
       " [0, 0, 1, 0],\n",
       " [0, 0, 1, 1],\n",
       " [0, 1, 0, 0],\n",
       " [0, 1, 0, 1],\n",
       " [0, 1, 1, 0],\n",
       " [0, 1, 1, 1],\n",
       " [1, 0, 0, 0],\n",
       " [1, 0, 0, 1],\n",
       " [1, 0, 1, 0],\n",
       " [1, 0, 1, 1],\n",
       " [1, 1, 0, 0],\n",
       " [1, 1, 0, 1],\n",
       " [1, 1, 1, 0],\n",
       " [1, 1, 1, 1]]"
      ]
     },
     "execution_count": 73,
     "metadata": {},
     "output_type": "execute_result"
    }
   ],
   "source": [
    "def vErrors(u):\n",
    "    r = []\n",
    "    for i in range(pow(2,2*u)):\n",
    "        bf = list(bin(i)[2:])\n",
    "        temp = [0]*((2*u)-len(bf))+[eval(i) for i in bf]\n",
    "        if temp not in r:\n",
    "            r.append(temp)\n",
    "    return r\n",
    "vErrors(2)"
   ]
  },
  {
   "cell_type": "code",
   "execution_count": 2,
   "id": "dcd869af",
   "metadata": {},
   "outputs": [],
   "source": [
    "def ham(V):\n",
    "    c = 0\n",
    "    for i in V:\n",
    "        if i == 1:\n",
    "            c += 1\n",
    "    return c"
   ]
  },
  {
   "cell_type": "code",
   "execution_count": 6,
   "id": "3e624989",
   "metadata": {},
   "outputs": [],
   "source": [
    "def prob_u2(vt, ER, pR, pn):\n",
    "    prob = 0\n",
    "    if vt == [0, 0] or vt == [1,1]:\n",
    "        if ER == [0,0,0,0]:\n",
    "            return 1+(1/264)*(pR**8)-(1/72)*(pR**6)-(11/336)*(pR**5)+(17/504)*(pR**4)+(7/90)*(pR**3)+(1/3)*(pR**2)-(7/6)*(pR)\n",
    "        elif ER == [0,0,0,1]:\n",
    "            return -(1/264)*(pR**8)+(1/72)*(pR**6)+(1/84)*(pR**5)+(1/72)*(pR**4)-(7/90)*(pR**3)+(1/8)*(pR**2)+(1/4)*pR\n",
    "        elif ER == [0,0,1,0]:\n",
    "            return -(1/264)*(pR**8)+(1/72)*(pR**6)+(1/48)*(pR**5)-(17/504)*(pR**4)-(5/24)*(pR**2)+(1/3)*pR\n",
    "        elif ER == [0,0,1,1]:\n",
    "            return (1/264)*(pR**8)-(1/72)*(pR**6)-(1/72)*(pR**4)+(1/8)*(pR**2)\n",
    "        elif ER == [0,1,0,0]:\n",
    "            return -(1/264)*(pR**8)+(11/336)*(pR**5)+(1/72)*(pR**4)-(1/36)*(pR**3)-(5/24)*(pR**2)+(1/4)*(pR)\n",
    "        elif ER == [0,1,0,1]:\n",
    "            return (1/264)*(pR**8)-(1/84)*(pR**5)-(1/72)*(pR**4)+(1/36)*(pR**3)\n",
    "        elif ER == [0,1,1,0]:\n",
    "            return (1/264)*(pR**8)-(1/48)*(pR**5)-(1/72)*(pR**4)+(1/12)*(pR**2)\n",
    "        elif ER == [0,1,1,1]:\n",
    "            return -(1/264)*(pR**8)+(1/72)*(pR**4)\n",
    "        elif ER == [1,0,0,0]:\n",
    "            return (1/7)*((1/12)*(pR**5)-(1/3)*(pR**4))-(1/264)*(pR**8)+(1/72)*(pR**6)+(1/48)*(pR**5)-(1/20)*(pR**3)-(1/8)*(pR**2)+(1/3)*pR\n",
    "        elif ER == [1,0,0,1]:\n",
    "            return (1/264)*(pR**8)-(1/72)*(pR**6)-(1/84)*(pR**5)+(1/20)*(pR**3)\n",
    "        elif ER == [1,0,1,0]:\n",
    "            return (1/264)*(pR**8)-(1/72)*(pR**6)-(1/48)*(pR**5)+(1/21)*(pR**4)\n",
    "        elif ER == [1,0,1,1]:\n",
    "            return -(1/360)*(pR**8)+(1/72)*(pR**5)\n",
    "        elif ER == [1,1,0,0]:\n",
    "            return (1/264)*(pR**8)-(11/336)*(pR**5)+(1/8)*(pR**2)\n",
    "        elif ER == [1,1,0,1]:\n",
    "            return -(1/360)*(pR**8)+(1/72)*(pR**5)\n",
    "        elif ER == [1,1,1,0]:\n",
    "            return -(1/264)*(pR**8)+(1/84)*(pR**5)\n",
    "        else:\n",
    "            return (1/264)*(pR**8)\n",
    "    elif vt == [0,1] or vt == [1,0]:\n",
    "        if ER == [0,0,0,0]:\n",
    "            return 1+(1/360)*(pR**8)-(1/200)*(pR**6)-(13/504)*(pR**5)+(1/240)*(pR**4)+(7/90)*(pR**3)+(13/36)*(pR**2)-(7/6)*(pR)\n",
    "        elif ER == [0,0,0,1]:\n",
    "            return -(1/360)*(pR**8)+(1/200)*(pR**6)+(1/72)*(pR**5)+(1/240)*(pR**4)-(17/72)*(pR**2)+(1/3)*pR\n",
    "        elif ER == [0,0,1,0]:\n",
    "            return -(1/360)*(pR**8)+(1/200)*(pR**6)+(1/84)*(pR**5)+(1/40)*(pR**4)-(7/90)*(pR**3)-(1/8)*(pR**2)+(1/4)*pR\n",
    "        elif ER == [0,0,1,1]:\n",
    "            return (1/360)*(pR**8)-(1/200)*(pR**6)-(1/40)*(pR**4)+(1/8)*(pR**2)\n",
    "        elif ER == [0,1,0,0]:\n",
    "            return -(1/360)*(pR**8)+(1/200)*(pR**6)+(13/504)*(pR**5)-(1/48)*(pR**4)-(1/36)*(pR**3)-(1/8)*(pR**2)+(1/4)*(pR)\n",
    "        elif ER == [0,1,0,1]:\n",
    "            return (1/360)*(pR**8)-(1/200)*(pR**6)-(1/72)*(pR**5)+(1/48)*(pR**4)\n",
    "        elif ER == [0,1,1,0]:\n",
    "            return (1/360)*(pR**8)-(1/200)*(pR**6)-(1/84)*(pR**5)+(1/36)*(pR**3)\n",
    "        elif ER == [0,1,1,1]:\n",
    "            return -(1/360)*(pR**8)+(1/200)*(pR**6)\n",
    "        elif ER == [1,0,0,0]:\n",
    "            return -(1/360)*(pR**8)+(13/504)*(pR**5)+(1/40)*(pR**4)-(1/20)*(pR**3)-(17/72)*(pR**2)+(1/3)*pR\n",
    "        elif ER == [1,0,0,1]:\n",
    "            return (1/360)*(pR**8)-(1/72)*(pR**5)-(1/40)*(pR**4)+(1/9)*(pR**2)\n",
    "        elif ER == [1,0,1,0]:\n",
    "            return (1/360)*(pR**8)-(1/84)*(pR**5)-(1/40)*(pR**4)+(1/20)*(pR**3)\n",
    "        elif ER == [1,0,1,1]:\n",
    "            return -(1/360)*(pR**8)+(1/40)*(pR**4)\n",
    "        elif ER == [1,1,0,0]:\n",
    "            return (1/360)*(pR**8)-(13/504)*(pR**5)+(1/8)*(pR**2)\n",
    "        elif ER == [1,1,0,1]:\n",
    "            return -(1/360)*(pR**8)+(1/72)*(pR**5)\n",
    "        elif ER == [1,1,1,0]:\n",
    "            return -(1/360)*(pR**8)+(1/84)*(pR**5)\n",
    "        else:\n",
    "            return (1/360)*(pR**8)"
   ]
  },
  {
   "cell_type": "code",
   "execution_count": null,
   "id": "de45f2d5",
   "metadata": {},
   "outputs": [],
   "source": []
  },
  {
   "cell_type": "code",
   "execution_count": 83,
   "id": "db355d1e",
   "metadata": {},
   "outputs": [],
   "source": [
    "def Attack(ER):\n",
    "    u = 2\n",
    "    pR_E, pn_E = p_Estimators(ER)\n",
    "    prob_l = []\n",
    "    Err_v = vErrors(u)\n",
    "    # i = u-1, 2(u-1), 3(u-1)...\n",
    "    #while i < l/u\n",
    "    for j in range(pow(2, u)):\n",
    "        if bin(j)[-1] == '0':\n",
    "            for v in Err_v:\n",
    "                #prob"
   ]
  },
  {
   "cell_type": "code",
   "execution_count": 84,
   "id": "3993b4ac",
   "metadata": {},
   "outputs": [
    {
     "data": {
      "text/plain": [
       "[[0, 0, 0, 0],\n",
       " [0, 0, 0, 1],\n",
       " [0, 0, 1, 0],\n",
       " [0, 0, 1, 1],\n",
       " [0, 1, 0, 0],\n",
       " [0, 1, 0, 1],\n",
       " [0, 1, 1, 0],\n",
       " [0, 1, 1, 1],\n",
       " [1, 0, 0, 0],\n",
       " [1, 0, 0, 1],\n",
       " [1, 0, 1, 0],\n",
       " [1, 0, 1, 1],\n",
       " [1, 1, 0, 0],\n",
       " [1, 1, 0, 1],\n",
       " [1, 1, 1, 0],\n",
       " [1, 1, 1, 1]]"
      ]
     },
     "execution_count": 84,
     "metadata": {},
     "output_type": "execute_result"
    }
   ],
   "source": [
    "Attack([[1,0,1,1,0,1,1,1],[1,1,0,0,1,1,0,1],[1,1,0,1,1,1,1,1]])"
   ]
  },
  {
   "cell_type": "code",
   "execution_count": 8,
   "id": "7c02959e",
   "metadata": {},
   "outputs": [
    {
     "data": {
      "text/plain": [
       "[4, 3, 2, 1]"
      ]
     },
     "execution_count": 8,
     "metadata": {},
     "output_type": "execute_result"
    }
   ],
   "source": [
    "z = [1,2,3,4]\n",
    "z = z[::-1]\n",
    "z"
   ]
  },
  {
   "cell_type": "code",
   "execution_count": null,
   "id": "36a30f37",
   "metadata": {},
   "outputs": [],
   "source": []
  }
 ],
 "metadata": {
  "kernelspec": {
   "display_name": "Python 3 (ipykernel)",
   "language": "python",
   "name": "python3"
  },
  "language_info": {
   "codemirror_mode": {
    "name": "ipython",
    "version": 3
   },
   "file_extension": ".py",
   "mimetype": "text/x-python",
   "name": "python",
   "nbconvert_exporter": "python",
   "pygments_lexer": "ipython3",
   "version": "3.10.13"
  }
 },
 "nbformat": 4,
 "nbformat_minor": 5
}
