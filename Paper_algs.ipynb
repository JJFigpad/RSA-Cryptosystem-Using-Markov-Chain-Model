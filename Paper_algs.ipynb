{
 "cells": [
  {
   "cell_type": "code",
   "execution_count": 1,
   "id": "75024735",
   "metadata": {},
   "outputs": [],
   "source": [
    "import math\n",
    "import numpy as np\n",
    "from random import choice\n",
    "from matplotlib import pyplot as plt"
   ]
  },
  {
   "cell_type": "markdown",
   "id": "80ea0d16",
   "metadata": {},
   "source": [
    "### Montgomery Form"
   ]
  },
  {
   "cell_type": "code",
   "execution_count": 85,
   "id": "b95e81c9",
   "metadata": {},
   "outputs": [],
   "source": [
    "def MForm(a,n):\n",
    "    exp = math.ceil(math.log(n, 2))\n",
    "    R = pow(2, exp)\n",
    "    return (a*R)%n"
   ]
  },
  {
   "cell_type": "code",
   "execution_count": 86,
   "id": "1b55e952",
   "metadata": {},
   "outputs": [
    {
     "data": {
      "text/plain": [
       "10"
      ]
     },
     "execution_count": 86,
     "metadata": {},
     "output_type": "execute_result"
    }
   ],
   "source": [
    "MForm(2,11)"
   ]
  },
  {
   "cell_type": "code",
   "execution_count": 87,
   "id": "3bf384ed",
   "metadata": {},
   "outputs": [
    {
     "data": {
      "text/plain": [
       "153"
      ]
     },
     "execution_count": 87,
     "metadata": {},
     "output_type": "execute_result"
    }
   ],
   "source": [
    "MForm(5,161)"
   ]
  },
  {
   "cell_type": "markdown",
   "id": "945c9aa6",
   "metadata": {},
   "source": [
    "## MMM"
   ]
  },
  {
   "cell_type": "code",
   "execution_count": 88,
   "id": "5d0ba66a",
   "metadata": {},
   "outputs": [],
   "source": [
    "def MMM(a,b,p):\n",
    "    return MForm(a*b, p)"
   ]
  },
  {
   "cell_type": "code",
   "execution_count": 89,
   "id": "9ee62157",
   "metadata": {},
   "outputs": [
    {
     "data": {
      "text/plain": [
       "3"
      ]
     },
     "execution_count": 89,
     "metadata": {},
     "output_type": "execute_result"
    }
   ],
   "source": [
    "MMM(2,5,7)"
   ]
  },
  {
   "cell_type": "code",
   "execution_count": 58,
   "id": "b2b0bec9",
   "metadata": {},
   "outputs": [
    {
     "data": {
      "text/plain": [
       "39"
      ]
     },
     "execution_count": 58,
     "metadata": {},
     "output_type": "execute_result"
    }
   ],
   "source": [
    "MMM(4,9,161)"
   ]
  },
  {
   "cell_type": "code",
   "execution_count": 90,
   "id": "e28ba809",
   "metadata": {},
   "outputs": [
    {
     "data": {
      "text/plain": [
       "3"
      ]
     },
     "execution_count": 90,
     "metadata": {},
     "output_type": "execute_result"
    }
   ],
   "source": [
    "MMM(9,7,15)"
   ]
  },
  {
   "cell_type": "markdown",
   "id": "35875bed",
   "metadata": {},
   "source": [
    "## MMM reduction"
   ]
  },
  {
   "cell_type": "code",
   "execution_count": 91,
   "id": "8054dd1d",
   "metadata": {},
   "outputs": [],
   "source": [
    "def inv(a, n):\n",
    "    for i in range(1, n):\n",
    "        if (a*i)%n == 1:\n",
    "            return i"
   ]
  },
  {
   "cell_type": "code",
   "execution_count": 102,
   "id": "116f916c",
   "metadata": {},
   "outputs": [],
   "source": [
    "def find_v(n):\n",
    "    exp = math.ceil(math.log(n, 2))\n",
    "    R = pow(2, exp)\n",
    "    Rinv = inv(R, n)\n",
    "    v = (R*Rinv-1)//n\n",
    "    return (R, v)"
   ]
  },
  {
   "cell_type": "code",
   "execution_count": 107,
   "id": "bd118fcd",
   "metadata": {},
   "outputs": [],
   "source": [
    "def MMMr(a, b, n):\n",
    "    flag = 0\n",
    "    D = MForm(a, n)*MForm(b, n)\n",
    "    R, v = find_v(n)\n",
    "    m = ((D%R)*v)%R\n",
    "    U = (D+(m*n))//R # 0 <= U <= 2n\n",
    "    if U >= n:\n",
    "        U = U-n\n",
    "        flag = 1\n",
    "    return (U, flag)"
   ]
  },
  {
   "cell_type": "code",
   "execution_count": 108,
   "id": "3d98fe78",
   "metadata": {},
   "outputs": [
    {
     "data": {
      "text/plain": [
       "(3, 0)"
      ]
     },
     "execution_count": 108,
     "metadata": {},
     "output_type": "execute_result"
    }
   ],
   "source": [
    "MMMr(2,5,7)"
   ]
  },
  {
   "cell_type": "code",
   "execution_count": 109,
   "id": "5e76592a",
   "metadata": {},
   "outputs": [
    {
     "data": {
      "text/plain": [
       "(39, 0)"
      ]
     },
     "execution_count": 109,
     "metadata": {},
     "output_type": "execute_result"
    }
   ],
   "source": [
    "MMMr(4,9,161)"
   ]
  },
  {
   "cell_type": "code",
   "execution_count": 110,
   "id": "b7651128",
   "metadata": {},
   "outputs": [
    {
     "data": {
      "text/plain": [
       "(3, 1)"
      ]
     },
     "execution_count": 110,
     "metadata": {},
     "output_type": "execute_result"
    }
   ],
   "source": [
    "MMMr(9,7,15)"
   ]
  },
  {
   "cell_type": "markdown",
   "id": "8f9cc59d",
   "metadata": {},
   "source": [
    "##  Left-to-right Montgomery ladder with MM algorithm"
   ]
  },
  {
   "cell_type": "code",
   "execution_count": 137,
   "id": "e6993133",
   "metadata": {},
   "outputs": [],
   "source": [
    "def LtRMontLadder(m, kb, n):\n",
    "    exp = math.ceil(math.log(n, 2))\n",
    "    R = pow(2, exp)\n",
    "    Rinv = inv(R, n)\n",
    "    R0 = MMMr(m, Rinv**2, n)[0]\n",
    "    R1 = MMMr(R0, R0, n)[0]\n",
    "    for i in range(3,len(kb)):\n",
    "        if kb[i] == '0':\n",
    "            R1 = MMMr(R0, R1, n)[0]\n",
    "            R0 = MMMr(R0,R0,n)[0]\n",
    "            w.append(MMMr(R0, R1, n)[1])\n",
    "            w.append(MMMr(R0,R0,n)[1])\n",
    "        else:\n",
    "            R0 = MMMr(R0, R1, n)[0]\n",
    "            R1 = MMMr(R1,R1,n)[0]\n",
    "            w.append(MMMr(R0, R1, n)[1])\n",
    "            w.append(MMMr(R1, R1, n)[1])\n",
    "    return (R0*R)%n"
   ]
  },
  {
   "cell_type": "code",
   "execution_count": 138,
   "id": "0d6d1c13",
   "metadata": {},
   "outputs": [
    {
     "name": "stdout",
     "output_type": "stream",
     "text": [
      "10111\n",
      "126\n",
      "[0, 0, 1, 0, 0, 0, 1, 0]\n"
     ]
    }
   ],
   "source": [
    "w = []\n",
    "p = 143\n",
    "kb = bin(23)\n",
    "print(kb[2:])\n",
    "m = 3\n",
    "print(LtRMontLadder(m, kb, p))\n",
    "print(w)"
   ]
  },
  {
   "cell_type": "code",
   "execution_count": 139,
   "id": "8a276159",
   "metadata": {},
   "outputs": [
    {
     "data": {
      "text/plain": [
       "126"
      ]
     },
     "execution_count": 139,
     "metadata": {},
     "output_type": "execute_result"
    }
   ],
   "source": [
    "(m**23)%p"
   ]
  },
  {
   "cell_type": "code",
   "execution_count": 140,
   "id": "1d5502b9",
   "metadata": {},
   "outputs": [
    {
     "name": "stdout",
     "output_type": "stream",
     "text": [
      "1011\n",
      "1130\n",
      "[0, 0, 0, 0, 0, 0]\n"
     ]
    }
   ],
   "source": [
    "w = []\n",
    "p = 4277\n",
    "kb = bin(11)\n",
    "print(kb[2:])\n",
    "m = 12\n",
    "print(LtRMontLadder(m, kb, p))\n",
    "print(w)"
   ]
  },
  {
   "cell_type": "code",
   "execution_count": 141,
   "id": "fe983e74",
   "metadata": {},
   "outputs": [
    {
     "data": {
      "text/plain": [
       "1130"
      ]
     },
     "execution_count": 141,
     "metadata": {},
     "output_type": "execute_result"
    }
   ],
   "source": [
    "(m**11)%p"
   ]
  },
  {
   "cell_type": "markdown",
   "id": "e38e804b",
   "metadata": {},
   "source": [
    "## Attack"
   ]
  },
  {
   "cell_type": "code",
   "execution_count": 21,
   "id": "578d3537",
   "metadata": {},
   "outputs": [],
   "source": [
    "def convert(L):\n",
    "    '''\n",
    "    From binary to decimal\n",
    "    '''\n",
    "    \n",
    "    r = 0\n",
    "    for i in range(len(L)-1,-1,-1):\n",
    "        if L[i] == 1:\n",
    "            r += pow(2,len(L)-i-1)\n",
    "    return r"
   ]
  },
  {
   "cell_type": "code",
   "execution_count": 22,
   "id": "5d967ddc",
   "metadata": {},
   "outputs": [],
   "source": [
    "def uM(ER):\n",
    "    N = len(ER)\n",
    "    l = len(ER[0])\n",
    "    l0 = l//2\n",
    "    pR_E = 0\n",
    "    for i in range(N):\n",
    "        for j in range(0, l, 2):\n",
    "            pR_E += ER[i][j]\n",
    "    return pR_E/(N*l0)\n",
    "\n",
    "def uQ(ER):\n",
    "    N = len(ER)\n",
    "    l = len(ER[0])\n",
    "    l0 = l//2\n",
    "    pn_E = 0\n",
    "    for i in range(N):\n",
    "        for j in range(1, l, 2):\n",
    "            pn_E += ER[i][j]\n",
    "    return pn_E/(N*l0)"
   ]
  },
  {
   "cell_type": "code",
   "execution_count": 23,
   "id": "20a342c0",
   "metadata": {},
   "outputs": [
    {
     "name": "stdout",
     "output_type": "stream",
     "text": [
      "[0, 0, 0, 0, 0, 0]\n",
      "0.2222222222222222\n",
      "0.3333333333333333\n"
     ]
    }
   ],
   "source": [
    "print(w)\n",
    "print(uM([w,[1, 1, 0, 0, 0, 1, 0, 0, 0, 0],[1, 1, 0, 0, 0, 0, 0, 0, 0, 0]]))\n",
    "print(uQ([w,[1, 1, 0, 0, 0, 1, 0, 0, 0, 0],[1, 1, 0, 0, 0, 0, 0, 0, 0, 0]]))"
   ]
  },
  {
   "cell_type": "code",
   "execution_count": 24,
   "id": "92aaec88",
   "metadata": {},
   "outputs": [],
   "source": [
    "def p_Estimators(ER):\n",
    "    um = uM(ER)\n",
    "    uq = uQ(ER)\n",
    "    pR_e = ((12*uq)-(12*um))/(1+(6*uq)-(8*um))\n",
    "    pn_e = (4*um)-(3*uq)\n",
    "    return (1/pR_e,pn_e)"
   ]
  },
  {
   "cell_type": "code",
   "execution_count": 25,
   "id": "5a63c9c1",
   "metadata": {},
   "outputs": [
    {
     "name": "stdout",
     "output_type": "stream",
     "text": [
      "(0.22222222222222274, 0.48)\n",
      "(0.16666666666667038, 0.4933333333333332)\n",
      "(0.08333333333334443, 0.4983333333333331)\n",
      "(3.499999999999334, 0.5105000000000002)\n",
      "(0.634703196347032, 0.5926666666666669)\n",
      "(0.5967741935483852, 0.5528571428571429)\n",
      "(0.6043956043956031, 0.5589285714285717)\n",
      "(0.6022727272727273, 0.5662499999999999)\n",
      "(0.5650793650793665, 0.5395555555555556)\n",
      "(0.5669291338582698, 0.5392727272727273)\n"
     ]
    }
   ],
   "source": [
    "N = []\n",
    "s = (0,1)\n",
    "for j in range(10):\n",
    "    for i in range(100+(j*100)):\n",
    "        N.append([choice(s),choice(s),choice(s),choice(s)])\n",
    "    print(p_Estimators(N))"
   ]
  },
  {
   "cell_type": "code",
   "execution_count": 26,
   "id": "ba068fae",
   "metadata": {},
   "outputs": [
    {
     "data": {
      "text/plain": [
       "(0.41666666666666663, 0.7777777777777777)"
      ]
     },
     "execution_count": 26,
     "metadata": {},
     "output_type": "execute_result"
    }
   ],
   "source": [
    "p_Estimators([w,[1, 1, 1, 0, 0, 1, 0, 0, 0, 0],[1, 1, 0, 0, 1, 0, 0, 0, 1, 0]])"
   ]
  },
  {
   "cell_type": "code",
   "execution_count": 27,
   "id": "e119b3b6",
   "metadata": {},
   "outputs": [
    {
     "data": {
      "text/plain": [
       "[[0, 0, 0, 0],\n",
       " [0, 0, 0, 1],\n",
       " [0, 0, 1, 0],\n",
       " [0, 0, 1, 1],\n",
       " [0, 1, 0, 0],\n",
       " [0, 1, 0, 1],\n",
       " [0, 1, 1, 0],\n",
       " [0, 1, 1, 1],\n",
       " [1, 0, 0, 0],\n",
       " [1, 0, 0, 1],\n",
       " [1, 0, 1, 0],\n",
       " [1, 0, 1, 1],\n",
       " [1, 1, 0, 0],\n",
       " [1, 1, 0, 1],\n",
       " [1, 1, 1, 0],\n",
       " [1, 1, 1, 1]]"
      ]
     },
     "execution_count": 27,
     "metadata": {},
     "output_type": "execute_result"
    }
   ],
   "source": [
    "def vErrors(u):\n",
    "    r = []\n",
    "    for i in range(pow(2,2*u)):\n",
    "        bf = list(bin(i)[2:])\n",
    "        temp = [0]*((2*u)-len(bf))+[eval(i) for i in bf]\n",
    "        if temp not in r:\n",
    "            r.append(temp)\n",
    "    return r\n",
    "vErrors(2)"
   ]
  },
  {
   "cell_type": "code",
   "execution_count": 28,
   "id": "dcd869af",
   "metadata": {},
   "outputs": [],
   "source": [
    "def ham(V):\n",
    "    c = 0\n",
    "    for i in V:\n",
    "        if i == 1:\n",
    "            c += 1\n",
    "    return c"
   ]
  },
  {
   "cell_type": "code",
   "execution_count": 29,
   "id": "3e624989",
   "metadata": {},
   "outputs": [],
   "source": [
    "def prob_u2(vt, ER, pR):\n",
    "    prob = 0\n",
    "    if vt == [0, 0] or vt == [1,1]:\n",
    "        if ER == [0,0,0,0]:\n",
    "            return 1+(1/264)*(pR**8)-(1/72)*(pR**6)-(11/336)*(pR**5)+(17/504)*(pR**4)+(7/90)*(pR**3)+(1/3)*(pR**2)-(7/6)*(pR)\n",
    "        elif ER == [0,0,0,1]:\n",
    "            return -(1/264)*(pR**8)+(1/72)*(pR**6)+(1/84)*(pR**5)+(1/72)*(pR**4)-(7/90)*(pR**3)+(1/8)*(pR**2)+(1/4)*pR\n",
    "        elif ER == [0,0,1,0]:\n",
    "            return -(1/264)*(pR**8)+(1/72)*(pR**6)+(1/48)*(pR**5)-(17/504)*(pR**4)-(5/24)*(pR**2)+(1/3)*pR\n",
    "        elif ER == [0,0,1,1]:\n",
    "            return (1/264)*(pR**8)-(1/72)*(pR**6)-(1/72)*(pR**4)+(1/8)*(pR**2)\n",
    "        elif ER == [0,1,0,0]:\n",
    "            return -(1/264)*(pR**8)+(11/336)*(pR**5)+(1/72)*(pR**4)-(1/36)*(pR**3)-(5/24)*(pR**2)+(1/4)*(pR)\n",
    "        elif ER == [0,1,0,1]:\n",
    "            return (1/264)*(pR**8)-(1/84)*(pR**5)-(1/72)*(pR**4)+(1/36)*(pR**3)\n",
    "        elif ER == [0,1,1,0]:\n",
    "            return (1/264)*(pR**8)-(1/48)*(pR**5)-(1/72)*(pR**4)+(1/12)*(pR**2)\n",
    "        elif ER == [0,1,1,1]:\n",
    "            return -(1/264)*(pR**8)+(1/72)*(pR**4)\n",
    "        elif ER == [1,0,0,0]:\n",
    "            return (1/7)*((1/12)*(pR**5)-(1/3)*(pR**4))-(1/264)*(pR**8)+(1/72)*(pR**6)+(1/48)*(pR**5)-(1/20)*(pR**3)-(1/8)*(pR**2)+(1/3)*pR\n",
    "        elif ER == [1,0,0,1]:\n",
    "            return (1/264)*(pR**8)-(1/72)*(pR**6)-(1/84)*(pR**5)+(1/20)*(pR**3)\n",
    "        elif ER == [1,0,1,0]:\n",
    "            return (1/264)*(pR**8)-(1/72)*(pR**6)-(1/48)*(pR**5)+(1/21)*(pR**4)\n",
    "        elif ER == [1,0,1,1]:\n",
    "            return -(1/360)*(pR**8)+(1/72)*(pR**5)\n",
    "        elif ER == [1,1,0,0]:\n",
    "            return (1/264)*(pR**8)-(11/336)*(pR**5)+(1/8)*(pR**2)\n",
    "        elif ER == [1,1,0,1]:\n",
    "            return -(1/360)*(pR**8)+(1/72)*(pR**5)\n",
    "        elif ER == [1,1,1,0]:\n",
    "            return -(1/264)*(pR**8)+(1/84)*(pR**5)\n",
    "        else:\n",
    "            return (1/264)*(pR**8)\n",
    "    elif vt == [0,1] or vt == [1,0]:\n",
    "        if ER == [0,0,0,0]:\n",
    "            return 1+(1/360)*(pR**8)-(1/200)*(pR**6)-(13/504)*(pR**5)+(1/240)*(pR**4)+(7/90)*(pR**3)+(13/36)*(pR**2)-(7/6)*(pR)\n",
    "        elif ER == [0,0,0,1]:\n",
    "            return -(1/360)*(pR**8)+(1/200)*(pR**6)+(1/72)*(pR**5)+(1/240)*(pR**4)-(17/72)*(pR**2)+(1/3)*pR\n",
    "        elif ER == [0,0,1,0]:\n",
    "            return -(1/360)*(pR**8)+(1/200)*(pR**6)+(1/84)*(pR**5)+(1/40)*(pR**4)-(7/90)*(pR**3)-(1/8)*(pR**2)+(1/4)*pR\n",
    "        elif ER == [0,0,1,1]:\n",
    "            return (1/360)*(pR**8)-(1/200)*(pR**6)-(1/40)*(pR**4)+(1/8)*(pR**2)\n",
    "        elif ER == [0,1,0,0]:\n",
    "            return -(1/360)*(pR**8)+(1/200)*(pR**6)+(13/504)*(pR**5)-(1/48)*(pR**4)-(1/36)*(pR**3)-(1/8)*(pR**2)+(1/4)*(pR)\n",
    "        elif ER == [0,1,0,1]:\n",
    "            return (1/360)*(pR**8)-(1/200)*(pR**6)-(1/72)*(pR**5)+(1/48)*(pR**4)\n",
    "        elif ER == [0,1,1,0]:\n",
    "            return (1/360)*(pR**8)-(1/200)*(pR**6)-(1/84)*(pR**5)+(1/36)*(pR**3)\n",
    "        elif ER == [0,1,1,1]:\n",
    "            return -(1/360)*(pR**8)+(1/200)*(pR**6)\n",
    "        elif ER == [1,0,0,0]:\n",
    "            return -(1/360)*(pR**8)+(13/504)*(pR**5)+(1/40)*(pR**4)-(1/20)*(pR**3)-(17/72)*(pR**2)+(1/3)*pR\n",
    "        elif ER == [1,0,0,1]:\n",
    "            return (1/360)*(pR**8)-(1/72)*(pR**5)-(1/40)*(pR**4)+(1/9)*(pR**2)\n",
    "        elif ER == [1,0,1,0]:\n",
    "            return (1/360)*(pR**8)-(1/84)*(pR**5)-(1/40)*(pR**4)+(1/20)*(pR**3)\n",
    "        elif ER == [1,0,1,1]:\n",
    "            return -(1/360)*(pR**8)+(1/40)*(pR**4)\n",
    "        elif ER == [1,1,0,0]:\n",
    "            return (1/360)*(pR**8)-(13/504)*(pR**5)+(1/8)*(pR**2)\n",
    "        elif ER == [1,1,0,1]:\n",
    "            return -(1/360)*(pR**8)+(1/72)*(pR**5)\n",
    "        elif ER == [1,1,1,0]:\n",
    "            return -(1/360)*(pR**8)+(1/84)*(pR**5)\n",
    "        else:\n",
    "            return (1/360)*(pR**8)"
   ]
  },
  {
   "cell_type": "code",
   "execution_count": 30,
   "id": "05b9f61c",
   "metadata": {},
   "outputs": [
    {
     "data": {
      "text/plain": [
       "0.2852413943928571"
      ]
     },
     "execution_count": 30,
     "metadata": {},
     "output_type": "execute_result"
    }
   ],
   "source": [
    "prob_u2([1,0], w[:4], 0.9)"
   ]
  },
  {
   "cell_type": "code",
   "execution_count": 31,
   "id": "de45f2d5",
   "metadata": {},
   "outputs": [],
   "source": [
    "def Lsum_mod2(L1,L2):\n",
    "    L = []\n",
    "    for i in range(len(L1)):\n",
    "        L.append(L1[i]+L2[i])\n",
    "    return L"
   ]
  },
  {
   "cell_type": "code",
   "execution_count": 32,
   "id": "db355d1e",
   "metadata": {},
   "outputs": [],
   "source": [
    "def Attack_u2(ER):\n",
    "    # u = 2\n",
    "    t_est = []\n",
    "    pR_E, pn_E = p_Estimators(ER)\n",
    "    prob_l = []\n",
    "    Err_v = vErrors(2)\n",
    "    # i = u-1, 2(u-1), 3(u-1)...\n",
    "    for theta in [[0,0],[0,1],[1,0],[1,1]]:\n",
    "        prob_temp = 0\n",
    "        for v in Err_v:\n",
    "            for er_v in ER:\n",
    "                for j in range(1,len(er_v),2):\n",
    "                    prob_temp += prob_u2(theta, Lsum_mod2(v,er_v), pR_E)\n",
    "            prob_temp *= pow(pn_E, ham(v))*pow(1-pn_E,4-ham(v))\n",
    "        prob_l.append(prob_temp)\n",
    "    for i in range(0,len(ER[0]),2):\n",
    "        Accum = [0]*16\n",
    "        for v_n in ER:\n",
    "            Accum[convert(v_n[i:i+4])] += 1\n",
    "        for theta in [[0,0],[1,0]]: # u//2\n",
    "            Tt = 0\n",
    "            for vec in Err_v:\n",
    "                Tt += Accum[convert(vec)]*np.log(prob_u2(theta, vec, pR_E))\n",
    "            t_est.append(Tt)\n",
    "    k_est = [0]*(len(ER[0])//2)\n",
    "    k_est[0] = 1\n",
    "    k_est[-1] = 1\n",
    "    for i in range(len(ER[0])//2 - 2):\n",
    "        if i == 0:\n",
    "            k_est[1] = int((t_est[0] + k_est[0])%2)\n",
    "        else:\n",
    "            for j in range(2):\n",
    "                #print(i+j)\n",
    "                k_est[1+i-j] = int((t_est[i+j]+k_est[i]))%2\n",
    "    k_est.reverse()\n",
    "    return (k_est, convert(k_est))"
   ]
  },
  {
   "cell_type": "code",
   "execution_count": 33,
   "id": "3993b4ac",
   "metadata": {},
   "outputs": [
    {
     "data": {
      "text/plain": [
       "([1, 0, 0, 0, 1], 17)"
      ]
     },
     "execution_count": 33,
     "metadata": {},
     "output_type": "execute_result"
    }
   ],
   "source": [
    "Attack_u2([[1,0,1,1,0,1,0,1,1,1],[1,1,0,0,1,1,0,1,0,1],[1,1,0,1,1,1,1,1,0,1],[1,1,0,1,1,0,1,1,0,0]])"
   ]
  },
  {
   "cell_type": "code",
   "execution_count": 34,
   "id": "36a30f37",
   "metadata": {},
   "outputs": [
    {
     "data": {
      "text/plain": [
       "([1, 0, 1], 5)"
      ]
     },
     "execution_count": 34,
     "metadata": {},
     "output_type": "execute_result"
    }
   ],
   "source": [
    "Attack_u2([w,[0, 1, 1, 0, 1, 0, 1, 0, 0, 0],[0,0,1,0,1,0,0,1,0,1]])"
   ]
  },
  {
   "cell_type": "code",
   "execution_count": 35,
   "id": "ae004326",
   "metadata": {},
   "outputs": [
    {
     "data": {
      "text/plain": [
       "([1, 1, 1], 7)"
      ]
     },
     "execution_count": 35,
     "metadata": {},
     "output_type": "execute_result"
    }
   ],
   "source": [
    "Attack_u2([w,[1, 1, 1, 0, 0, 1, 0, 0, 0, 0],[1, 1, 0, 0, 1, 0, 0, 0, 1, 0]])"
   ]
  }
 ],
 "metadata": {
  "kernelspec": {
   "display_name": "Python 3 (ipykernel)",
   "language": "python",
   "name": "python3"
  },
  "language_info": {
   "codemirror_mode": {
    "name": "ipython",
    "version": 3
   },
   "file_extension": ".py",
   "mimetype": "text/x-python",
   "name": "python",
   "nbconvert_exporter": "python",
   "pygments_lexer": "ipython3",
   "version": "3.10.13"
  }
 },
 "nbformat": 4,
 "nbformat_minor": 5
}
